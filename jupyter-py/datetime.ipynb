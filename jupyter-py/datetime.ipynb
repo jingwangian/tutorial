{
 "cells": [
  {
   "cell_type": "code",
   "execution_count": 4,
   "metadata": {},
   "outputs": [
    {
     "name": "stdout",
     "output_type": "stream",
     "text": [
      "2018-03-20 00:00:00\n",
      "20/03/2018\n"
     ]
    }
   ],
   "source": [
    "import datetime\n",
    "\n",
    "d1_str='2018-03-20'\n",
    "d1 = datetime.datetime.strptime(d1_str,'%Y-%m-%d')\n",
    "\n",
    "d2_str = d1.strftime('%d/%m/%Y')\n",
    "\n",
    "print(d1)\n",
    "print(d2_str)"
   ]
  },
  {
   "cell_type": "code",
   "execution_count": null,
   "metadata": {},
   "outputs": [],
   "source": []
  }
 ],
 "metadata": {
  "kernelspec": {
   "display_name": "Python 3",
   "language": "python",
   "name": "python3"
  },
  "language_info": {
   "codemirror_mode": {
    "name": "ipython",
    "version": 3
   },
   "file_extension": ".py",
   "mimetype": "text/x-python",
   "name": "python",
   "nbconvert_exporter": "python",
   "pygments_lexer": "ipython3",
   "version": "3.6.2"
  }
 },
 "nbformat": 4,
 "nbformat_minor": 2
}
